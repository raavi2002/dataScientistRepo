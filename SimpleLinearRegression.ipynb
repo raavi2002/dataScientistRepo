{
  "nbformat": 4,
  "nbformat_minor": 0,
  "metadata": {
    "colab": {
      "private_outputs": true,
      "provenance": [],
      "authorship_tag": "ABX9TyOZDxOY2KR4Ll9aoOSP0f8h",
      "include_colab_link": true
    },
    "kernelspec": {
      "name": "python3",
      "display_name": "Python 3"
    },
    "language_info": {
      "name": "python"
    }
  },
  "cells": [
    {
      "cell_type": "markdown",
      "metadata": {
        "id": "view-in-github",
        "colab_type": "text"
      },
      "source": [
        "<a href=\"https://colab.research.google.com/github/raavi2002/dataScientistRepo/blob/master/SimpleLinearRegression.ipynb\" target=\"_parent\"><img src=\"https://colab.research.google.com/assets/colab-badge.svg\" alt=\"Open In Colab\"/></a>"
      ]
    },
    {
      "cell_type": "code",
      "source": [
        "# Import all the Packages\n",
        "import math\n",
        "import requests\n",
        "from bs4 import BeautifulSoup\n",
        "import pandas as pd\n",
        "from sklearn.linear_model import LinearRegression\n",
        "from sklearn.metrics import mean_absolute_error\n",
        "import matplotlib.pyplot as plt\n",
        "from scipy.stats import pearsonr"
      ],
      "metadata": {
        "id": "IJUFgny8cDrp"
      },
      "execution_count": null,
      "outputs": []
    },
    {
      "cell_type": "code",
      "source": [
        "#Fetch the datasets\n",
        "url = 'http://wiki.stat.ucla.edu/socr/index.php/SOCR_Data_Dinov_020108_HeightsWeights'\n",
        "page = requests.get(url)\n",
        "height_weight_df = pd.read_html(url)[1]"
      ],
      "metadata": {
        "id": "Qz4rBdOOczcz"
      },
      "execution_count": null,
      "outputs": []
    },
    {
      "cell_type": "code",
      "source": [
        "#Information on the dataset\n",
        "height_weight_df.info()"
      ],
      "metadata": {
        "id": "k35UpWGhdw3h"
      },
      "execution_count": null,
      "outputs": []
    },
    {
      "cell_type": "code",
      "source": [
        "#shape of the dataset\n",
        "print(height_weight_df.shape)"
      ],
      "metadata": {
        "id": "XDqWLK-yezfp"
      },
      "execution_count": null,
      "outputs": []
    },
    {
      "cell_type": "code",
      "source": [
        "# Get the features and target\n",
        "X = height_weight_df.iloc[:, 1:2].values\n",
        "y = height_weight_df.iloc[:, -1].values\n",
        "print(X.shape, y.shape)"
      ],
      "metadata": {
        "id": "-aRidLggfdxn"
      },
      "execution_count": null,
      "outputs": []
    },
    {
      "cell_type": "code",
      "source": [
        "#model fitting\n",
        "lr = LinearRegression()\n",
        "lr.fit(X,y)"
      ],
      "metadata": {
        "id": "O1bvG5iGjkKh"
      },
      "execution_count": null,
      "outputs": []
    },
    {
      "cell_type": "code",
      "source": [
        "#getting coeffecient and intercept\n",
        "print(lr.coef_, lr.intercept_)\n",
        "coefficient = lr.coef_[0]\n",
        "intercept = lr.intercept_"
      ],
      "metadata": {
        "id": "AEjAu6q0j5h5"
      },
      "execution_count": null,
      "outputs": []
    },
    {
      "cell_type": "code",
      "source": [
        "# print the formula\n",
        "print(\"y\" + \"=\" + str(round(intercept, 2)) + \"+\" + str(round(coefficient, 2)) + \"x1\")"
      ],
      "metadata": {
        "id": "Z-czoJvmkho_"
      },
      "execution_count": null,
      "outputs": []
    },
    {
      "cell_type": "code",
      "source": [
        "# find the error\n",
        "y_pred = lr.predict(X)\n",
        "mae = mean_absolute_error(y, y_pred)"
      ],
      "metadata": {
        "id": "yCQN4Smsm7tR"
      },
      "execution_count": null,
      "outputs": []
    },
    {
      "cell_type": "code",
      "source": [
        "# Plot the linear regression\n",
        "plt.scatter(X, y, color='black')\n",
        "plt.plot(X, y_pred, color='red')\n",
        "plt.plot(X, y_pred+mae, color='blue')\n",
        "plt.plot(X, y_pred-mae, color='blue')\n",
        "plt.show()"
      ],
      "metadata": {
        "id": "g4zh_Cg1pYHY"
      },
      "execution_count": null,
      "outputs": []
    },
    {
      "cell_type": "code",
      "source": [
        "#Correlation and Pval\n",
        "corr, pval = pearsonr(X[:,0], y)\n",
        "print(\"Correlation:\" + str(corr))\n",
        "print(pval < 0.05)"
      ],
      "metadata": {
        "id": "9cX1AoZgpyO9"
      },
      "execution_count": null,
      "outputs": []
    },
    {
      "cell_type": "code",
      "source": [],
      "metadata": {
        "id": "MBaSpMJ7sXLM"
      },
      "execution_count": null,
      "outputs": []
    }
  ]
}