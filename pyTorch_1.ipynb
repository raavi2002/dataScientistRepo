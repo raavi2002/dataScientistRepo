{
  "nbformat": 4,
  "nbformat_minor": 0,
  "metadata": {
    "colab": {
      "private_outputs": true,
      "provenance": [],
      "machine_shape": "hm",
      "gpuType": "V100",
      "authorship_tag": "ABX9TyNdAJQhQbhfwQiz+fr/1DqE",
      "include_colab_link": true
    },
    "kernelspec": {
      "name": "python3",
      "display_name": "Python 3"
    },
    "language_info": {
      "name": "python"
    },
    "accelerator": "GPU"
  },
  "cells": [
    {
      "cell_type": "markdown",
      "metadata": {
        "id": "view-in-github",
        "colab_type": "text"
      },
      "source": [
        "<a href=\"https://colab.research.google.com/github/raavi2002/dataScientistRepo/blob/master/pyTorch_1.ipynb\" target=\"_parent\"><img src=\"https://colab.research.google.com/assets/colab-badge.svg\" alt=\"Open In Colab\"/></a>"
      ]
    },
    {
      "cell_type": "markdown",
      "source": [
        "# import the packages"
      ],
      "metadata": {
        "id": "STqkwCqcGYid"
      }
    },
    {
      "cell_type": "code",
      "source": [
        "import torch\n",
        "import pandas as pd\n",
        "import numpy as np\n",
        "import matplotlib.pyplot as plt\n",
        "print(torch.__version__)"
      ],
      "metadata": {
        "id": "nJAHU724Gsk4"
      },
      "execution_count": null,
      "outputs": []
    },
    {
      "cell_type": "markdown",
      "source": [
        "# Tensors"
      ],
      "metadata": {
        "id": "OM1k68UrG5kJ"
      }
    },
    {
      "cell_type": "code",
      "source": [
        "#creating tensors\n",
        "#1:scalar\n",
        "scalar = torch.tensor(7)\n",
        "print(scalar, scalar.shape, scalar.dtype,scalar.item(), scalar.ndim)"
      ],
      "metadata": {
        "id": "NJHPiYbNHDU5"
      },
      "execution_count": null,
      "outputs": []
    },
    {
      "cell_type": "code",
      "source": [
        "#2. Vector\n",
        "vector = torch.tensor([7,7])\n",
        "print(vector, vector.shape, vector.dtype, vector.ndim)"
      ],
      "metadata": {
        "id": "hhG_ilNOHTHo"
      },
      "execution_count": null,
      "outputs": []
    },
    {
      "cell_type": "code",
      "source": [
        "#3.matrix\n",
        "Matrix = torch.tensor([[7,7],\n",
        "                       [8,8]])\n",
        "print(Matrix, Matrix.shape, Matrix.dtype, Matrix.ndim)"
      ],
      "metadata": {
        "id": "O6fjXTEYIIpJ"
      },
      "execution_count": null,
      "outputs": []
    },
    {
      "cell_type": "code",
      "source": [
        "#TENSOR\n",
        "TENSOR = torch.tensor([[7,7,3],\n",
        "                      [8,8,9],\n",
        "                      [9,9,8]])\n",
        "print(TENSOR, TENSOR.shape, TENSOR.dtype, TENSOR.ndim)\n",
        "print(TENSOR[0,0])"
      ],
      "metadata": {
        "id": "3hXzjSWbIwgw"
      },
      "execution_count": null,
      "outputs": []
    },
    {
      "cell_type": "code",
      "source": [
        "#Randon Tensors\n",
        "rand_TENSOR = torch.rand(3,4,4)\n",
        "print(rand_TENSOR, rand_TENSOR.shape, rand_TENSOR.dtype, rand_TENSOR.ndim)"
      ],
      "metadata": {
        "id": "HENyvzxdJFkB"
      },
      "execution_count": null,
      "outputs": []
    },
    {
      "cell_type": "code",
      "source": [
        "#Tensor image creation\n",
        "tensor_image = torch.rand(32,32,3)\n",
        "print(tensor_image, tensor_image.shape, tensor_image.dtype, tensor_image.ndim)"
      ],
      "metadata": {
        "id": "BbTipMYWKza_"
      },
      "execution_count": null,
      "outputs": []
    },
    {
      "cell_type": "code",
      "source": [
        "#Zero and one Tensors\n",
        "zero_TENSOR = torch.zeros(3,3) * -1\n",
        "one_TENSOR = torch.ones(3,3) * -1\n",
        "print(one_TENSOR, one_TENSOR.shape, one_TENSOR.dtype, one_TENSOR.ndim)\n",
        "print(zero_TENSOR, zero_TENSOR.shape, zero_TENSOR.dtype, zero_TENSOR.ndim)"
      ],
      "metadata": {
        "id": "QBlApUwaMbUx"
      },
      "execution_count": null,
      "outputs": []
    },
    {
      "cell_type": "code",
      "source": [
        "#range of tensors\n",
        "range_TENSOR = torch.arange(start=1,end=100, step=2, dtype=torch.float16, device='cuda', requires_grad=None)\n",
        "print(range_TENSOR, range_TENSOR.shape, range_TENSOR.dtype, range_TENSOR.ndim)"
      ],
      "metadata": {
        "id": "gV-RkZNXLxVP"
      },
      "execution_count": null,
      "outputs": []
    },
    {
      "cell_type": "code",
      "source": [
        "|"
      ],
      "metadata": {
        "id": "gHorm3neNPqf"
      },
      "execution_count": null,
      "outputs": []
    }
  ]
}